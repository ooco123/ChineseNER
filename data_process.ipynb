{
 "cells": [
  {
   "cell_type": "code",
   "execution_count": 34,
   "metadata": {},
   "outputs": [],
   "source": [
    "import os\n",
    "import random\n",
    "from collections import Counter\n",
    "try:\n",
    "    import cPickle as pickle\n",
    "except ImportError:\n",
    "    import pickle\n",
    "import gc\n",
    "\n",
    "from gensim.models import KeyedVectors\n",
    "import multiprocessing\n",
    "from gensim.models import Word2Vec\n",
    "from gensim.models.word2vec import LineSentence\n",
    "\n",
    "import numpy as np\n",
    "import pandas\n",
    "from pandas import Series, DataFrame\n",
    "\n",
    "from keras.preprocessing.text import Tokenizer\n",
    "\n",
    "import matplotlib.pyplot as plt\n",
    "import seaborn as sns       \n",
    "\n",
    "from scipy import stats\n",
    "from scipy.stats import  norm\n",
    "from sklearn.preprocessing import StandardScaler\n",
    "import warnings\n",
    "warnings.filterwarnings('ignore')\n",
    "%matplotlib inline "
   ]
  },
  {
   "cell_type": "code",
   "execution_count": 42,
   "metadata": {},
   "outputs": [],
   "source": [
    "original_base_dir = \"./data_sets/original_data/\"\n",
    "\n",
    "train_text_path = os.path.join(original_base_dir, \"train.txt\")\n",
    "train_label_path = os.path.join(original_base_dir, \"train_label.txt\")\n",
    "valid_text_path = os.path.join(original_base_dir, \"valid.txt\")\n",
    "valid_label_path = os.path.join(original_base_dir, \"valid_label.txt\")\n",
    "test_text_path = os.path.join(original_base_dir, \"test.txt\")\n",
    "test_label_path = os.path.join(original_base_dir, \"test_label.txt\")\n",
    "\n",
    "train_path = \"./data_sets/train.txt\"\n",
    "dev_path = \"./data_sets/dev.txt\"\n",
    "test_path = \"./data_sets/test.txt\"\n",
    "all_data = os.path.join(original_base_dir, \"all.txt\")\n",
    "word2vec_path = \"./data_sets/word2vec.txt\"\n",
    "char_dict_path = os.path.join(original_base_dir, \"maps.pkl\")\n",
    "\n",
    "ccks_2018_file = os.path.join(original_base_dir, \"ccks2018_all_data.txt\")\n",
    "\n",
    "embedding_dim = 128"
   ]
  },
  {
   "cell_type": "code",
   "execution_count": 44,
   "metadata": {},
   "outputs": [],
   "source": [
    "def load_data(fpath):\n",
    "    with open(fpath, 'r', encoding=\"utf-8\") as fr:\n",
    "        data = [line.strip() for line in fr.readlines()]\n",
    "    return data\n",
    "\n",
    "def merge_text_label(texts, labels):\n",
    "    all_data = []\n",
    "    for i in range(len(texts)):\n",
    "        temp = []\n",
    "        text_list = texts[i].split()\n",
    "        label_list = labels[i].split()\n",
    "        for j in range(len(text_list)):\n",
    "            temp.append([text_list[j], label_list[j]])\n",
    "        all_data.append(temp)\n",
    "    return all_data\n",
    "\n",
    "def write_train_val_test(data, output_file):\n",
    "    with open(output_file, \"w\", encoding=\"utf-8\") as fw:\n",
    "        for item in data:\n",
    "            for sent in item:\n",
    "                fw.write(sent[0] + \" \" + sent[1] + \"\\n\")\n",
    "            fw.write(\"\\n\")\n",
    "            \n",
    "def write_sentences(data, output_file):\n",
    "    with open(output_file, 'w', encoding=\"utf-8\") as fw:\n",
    "        for item in data:\n",
    "            fw.write(item + \"\\n\")\n",
    "\n",
    "def train_word2vec(data_path, embedding_dim, window_size, min_count, output_path):\n",
    "    model = Word2Vec(LineSentence(data_path), size=embedding_dim, window=window_size, min_count=min_count, workers=multiprocessing.cpu_count())\n",
    "    # model.save(\"./data/type_word2vec.bin\")\n",
    "    model.wv.save_word2vec_format(output_path, binary=False)\n",
    "            \n",
    "def load_word2vec(embedding_path, word_index, embed_dim=128): \n",
    "    \"\"\"\n",
    "    载入预训练好的word2vec(Google-News)\n",
    "    \"\"\"\n",
    "    # 载入word2vec词向量\n",
    "    word2vec_dict = KeyedVectors.load_word2vec_format(embedding_path,binary=True)\n",
    "    \n",
    "    embedding_index = dict()\n",
    "    for word in word2vec_dict.wv.vocab:\n",
    "        embedding_index[word] = word2vec_dict.word_vec(word)\n",
    "    print('Load %s word vectors.' % len(embedding_index))\n",
    "    \n",
    "    all_embs = np.stack(list(embedding_index.values()))\n",
    "    # emb_mean, emb_std = all_embs.mean(), all_embs.std()\n",
    "    emb_mean = np.mean(all_embs, axis=0)\n",
    "    vocab_size = len(word_index)\n",
    "    # 初始化权重\n",
    "    embedding_matrix = np.zeros((vocab_size+1, embed_dim))\n",
    "    gc.collect()\n",
    "    # 对权重矩阵进行赋值，未找到时用词向量平均值填充\n",
    "    for word, i in word_index.items():\n",
    "        if i < vocab_size + 1:\n",
    "            embedding_vector = embedding_index.get(word)\n",
    "            if embedding_vector is not None:\n",
    "                embedding_matrix[i] = embedding_vector\n",
    "            else:\n",
    "                embedding_matrix[i] = emb_mean\n",
    "    del embedding_index\n",
    "    return embedding_matrix\n",
    "\n",
    "def creat_dict(data_path, dict_path):\n",
    "    dico = dict()\n",
    "#     dico[\"<PAD>\"] = 0\n",
    "    dico[\"<UNK>\"] = 1\n",
    "    all_words = []\n",
    "    with open(data_path, 'r', encoding=\"utf-8\") as fr:\n",
    "        for line in fr.readlines():\n",
    "            line=line.strip().split()\n",
    "            all_words += line\n",
    "    all_words = set(all_words)\n",
    "    i = 2\n",
    "    for item in all_words:\n",
    "        dico[item] = i\n",
    "        i += 1\n",
    "    print(dico)\n",
    "    with open(dict_path, 'wb') as fw:\n",
    "        pickle.dump(dico, fw)"
   ]
  },
  {
   "cell_type": "code",
   "execution_count": 45,
   "metadata": {},
   "outputs": [
    {
     "name": "stdout",
     "output_type": "stream",
     "text": [
      "{'<UNK>': 1, '肋': 2, '驾': 3, '堵': 4, '牛': 5, '炼': 6, '厄': 7, '何': 8, '个': 9, '运': 10, '激': 11, '午': 12, '涎': 13, '困': 14, '最': 15, '遂': 16, '果': 17, '桂': 18, '：': 19, '颧': 20, '腹': 21, '窝': 22, 'C': 23, '苦': 24, '阑': 25, '必': 26, '术': 27, '阻': 28, '窍': 29, '躯': 30, '独': 31, '骨': 32, '弃': 33, '失': 34, '拍': 35, '尤': 36, '怒': 37, '仰': 38, '又': 39, '立': 40, '御': 41, '阵': 42, '绀': 43, '焊': 44, '收': 45, '别': 46, '框': 47, '我': 48, '之': 49, '苯': 50, '塔': 51, '唇': 52, '肉': 53, '试': 54, '网': 55, '５': 56, '⑤': 57, '游': 58, '鲜': 59, '宗': 60, '天': 61, '敖': 62, '浮': 63, '速': 64, 'W': 65, '紊': 66, '江': 67, '功': 68, '鹿': 69, '持': 70, '金': 71, '哈': 72, '碍': 73, '弓': 74, 'f': 75, '抑': 76, '芳': 77, '弱': 78, '退': 79, '想': 80, '部': 81, '滑': 82, '旁': 83, '敏': 84, '骼': 85, '挤': 86, '扑': 87, '创': 88, '液': 89, '龈': 90, '桃': 91, 'c': 92, '折': 93, '慎': 94, '剑': 95, '拟': 96, '李': 97, '拿': 98, '＋': 99, '处': 100, '筛': 101, '影': 102, '简': 103, '嗜': 104, '村': 105, '均': 106, '送': 107, '绒': 108, '县': 109, '菲': 110, '露': 111, '跨': 112, '宁': 113, '静': 114, '要': 115, '腰': 116, '沫': 117, '夜': 118, '遇': 119, 'J': 120, '虽': 121, 'Ｐ': 122, '拮': 123, '夫': 124, '铜': 125, '答': 126, '佐': 127, '路': 128, '聚': 129, '蹲': 130, '醒': 131, '插': 132, '滨': 133, '桥': 134, '恒': 135, '饲': 136, '嘧': 137, '龄': 138, '落': 139, '谵': 140, '万': 141, '浊': 142, '界': 143, '鹌': 144, ';': 145, '友': 146, '几': 147, '池': 148, '钉': 149, '匀': 150, '家': 151, '尚': 152, '琥': 153, '蜘': 154, '和': 155, '走': 156, '湿': 157, 'I': 158, '帝': 159, '赵': 160, '据': 161, '沐': 162, '普': 163, '尽': 164, '渊': 165, '例': 166, '荣': 167, '灰': 168, '瓢': 169, '支': 170, '疤': 171, '巨': 172, '措': 173, '京': 174, '搐': 175, '危': 176, '暖': 177, '针': 178, '厂': 179, '窦': 180, '坚': 181, '膨': 182, '豆': 183, '爽': 184, '塌': 185, '直': 186, '特': 187, '肖': 188, '楔': 189, '协': 190, '脉': 191, '铁': 192, '差': 193, '枇': 194, '杜': 195, 'ａ': 196, '孕': 197, '显': 198, '握': 199, '从': 200, '教': 201, '变': 202, '感': 203, 'Ⅱ': 204, '氢': 205, '淑': 206, '骑': 207, '衬': 208, '吐': 209, '４': 210, '害': 211, '陷': 212, '火': 213, 'd': 214, '榨': 215, '五': 216, '间': 217, '扣': 218, '酚': 219, '洁': 220, '般': 221, '砍': 222, '薛': 223, '魏': 224, '診': 225, '颜': 226, '剖': 227, '栅': 228, '毛': 229, '野': 230, '贯': 231, '臭': 232, '疹': 233, '弛': 234, '肽': 235, '误': 236, '广': 237, '钳': 238, '地': 239, '继': 240, '把': 241, '氧': 242, '疏': 243, '凉': 244, '跖': 245, '匠': 246, '净': 247, '（': 248, '嚼': 249, '呈': 250, '蔡': 251, '综': 252, '服': 253, '表': 254, '钝': 255, '橘': 256, '伟': 257, '秀': 258, '陪': 259, '门': 260, '丸': 261, '铵': 262, '往': 263, '挛': 264, '斜': 265, '出': 266, '糜': 267, '布': 268, '洞': 269, '）': 270, '制': 271, '损': 272, '似': 273, '排': 274, '即': 275, '纺': 276, '兰': 277, '髓': 278, '吓': 279, '势': 280, '的': 281, '刘': 282, '跃': 283, '霞': 284, '肘': 285, '单': 286, '分': 287, '厚': 288, '伯': 289, '痕': 290, '踌': 291, '现': 292, 'X': 293, '错': 294, 'H': 295, '？': 296, '婚': 297, '奕': 298, '童': 299, '⑴': 300, '象': 301, '锻': 302, '建': 303, '担': 304, '远': 305, '详': 306, '抖': 307, '屯': 308, '6': 309, '艳': 310, '喹': 311, '班': 312, '醋': 313, '作': 314, '丢': 315, '采': 316, '冻': 317, '另': 318, '半': 319, '仪': 320, '墨': 321, 'E': 322, '倦': 323, '话': 324, '科': 325, '赘': 326, '物': 327, '烂': 328, '炉': 329, '败': 330, '香': 331, '日': 332, '茄': 333, '堤': 334, '伴': 335, '积': 336, '挡': 337, '故': 338, '加': 339, '颈': 340, '椭': 341, '谦': 342, '识': 343, '＾': 344, '粪': 345, '癃': 346, '罕': 347, '③': 348, '岛': 349, '提': 350, '导': 351, '脂': 352, '鱼': 353, '凤': 354, '涂': 355, '仓': 356, '码': 357, '州': 358, '籍': 359, '年': 360, '丙': 361, '谢': 362, '算': 363, '告': 364, '副': 365, '性': 366, '忘': 367, '肌': 368, '卧': 369, '件': 370, '滴': 371, '薄': 372, '栓': 373, '割': 374, 'ｎ': 375, '无': 376, '②': 377, '衣': 378, '且': 379, '片': 380, '醛': 381, '声': 382, '钛': 383, '拇': 384, '嘴': 385, '袋': 386, '碘': 387, '恩': 388, '础': 389, '仔': 390, '雷': 391, '悬': 392, '回': 393, 'ｒ': 394, '习': 395, '给': 396, '柏': 397, '老': 398, '棒': 399, '景': 400, '缺': 401, '左': 402, '法': 403, '￥': 404, '志': 405, '决': 406, '热': 407, '语': 408, '浑': 409, '群': 410, '生': 411, '止': 412, '痉': 413, '拙': 414, '医': 415, '秒': 416, '雪': 417, '智': 418, '畏': 419, '镜': 420, '步': 421, '\\ue13b': 422, '所': 423, '忍': 424, '跟': 425, '朗': 426, '颊': 427, '先': 428, 'T': 429, '蛋': 430, '士': 431, '磨': 432, '腻': 433, '胺': 434, '麦': 435, '但': 436, '蒙': 437, '式': 438, '水': 439, '佳': 440, '突': 441, '弄': 442, '纵': 443, '脏': 444, '苍': 445, '粘': 446, '暗': 447, '褪': 448, '紧': 449, '多': 450, '祛': 451, '霜': 452, '肝': 453, '刮': 454, '隔': 455, '海': 456, '胞': 457, '叶': 458, '芹': 459, '下': 460, '帕': 461, '限': 462, '竖': 463, 'Y': 464, '女': 465, '窗': 466, '胰': 467, '巴': 468, '茶': 469, '摘': 470, 'M': 471, '蠕': 472, '浓': 473, '叫': 474, '细': 475, '七': 476, '各': 477, '酒': 478, 'ｗ': 479, '垂': 480, '氏': 481, '拜': 482, '彩': 483, '禁': 484, '盗': 485, '[': 486, '迷': 487, '正': 488, '免': 489, '超': 490, '块': 491, '闪': 492, '廓': 493, '得': 494, '击': 495, '近': 496, '端': 497, '沉': 498, '９': 499, '卫': 500, '洛': 501, '鲨': 502, '品': 503, '阳': 504, '阔': 505, '晓': 506, '顺': 507, '劳': 508, '计': 509, '转': 510, '鼎': 511, '道': 512, '花': 513, '摔': 514, '按': 515, 'Q': 516, '撕': 517, '德': 518, '像': 519, '酸': 520, '莲': 521, '规': 522, '筋': 523, '沿': 524, '混': 525, '鼓': 526, '掌': 527, '泉': 528, '/': 529, '星': 530, '延': 531, '坠': 532, '非': 533, '诱': 534, '郎': 535, '呆': 536, 'ｕ': 537, '３': 538, '务': 539, '升': 540, '疮': 541, '滤': 542, '8': 543, '汁': 544, '朝': 545, '杨': 546, '渣': 547, '船': 548, '阴': 549, '邓': 550, '臀': 551, '健': 552, '沥': 553, '红': 554, '紫': 555, '仍': 556, '挠': 557, '迫': 558, '酐': 559, '哨': 560, '滋': 561, '盏': 562, '榆': 563, '根': 564, '桔': 565, '漏': 566, '跳': 567, '瓣': 568, '授': 569, '绝': 570, '坏': 571, '邀': 572, '范': 573, '少': 574, '引': 575, '司': 576, '绸': 577, '厥': 578, '银': 579, '号': 580, '痊': 581, '营': 582, '磺': 583, '季': 584, '竭': 585, '谱': 586, '苗': 587, '硝': 588, '浩': 589, '醇': 590, 'h': 591, '蓝': 592, '类': 593, '秧': 594, '睁': 595, '苑': 596, '`': 597, '洲': 598, '屏': 599, '绍': 600, '筑': 601, '宋': 602, '咀': 603, 'y': 604, '系': 605, '躁': 606, '斯': 607, '长': 608, '接': 609, '修': 610, 'A': 611, '辛': 612, '翼': 613, '产': 614, '琴': 615, '莨': 616, '闹': 617, '马': 618, '珠': 619, 'ｌ': 620, '封': 621, '糙': 622, '妄': 623, '笨': 624, '具': 625, '怡': 626, '口': 627, '线': 628, '酰': 629, '汞': 630, '砸': 631, '压': 632, '市': 633, '刹': 634, '棋': 635, '假': 636, '庙': 637, '袖': 638, '糖': 639, '顿': 640, '欲': 641, '缠': 642, '整': 643, '振': 644, '铝': 645, '深': 646, '换': 647, '介': 648, '予': 649, '北': 650, '负': 651, '破': 652, '离': 653, '土': 654, '奉': 655, '甚': 656, '既': 657, '观': 658, 'l': 659, '偏': 660, '公': 661, '舒': 662, '充': 663, '眼': 664, '由': 665, '勿': 666, '器': 667, '杰': 668, '叠': 669, '冬': 670, '腕': 671, '境': 672, '灌': 673, '谷': 674, '每': 675, '强': 676, '胶': 677, '罗': 678, '锈': 679, '底': 680, '微': 681, '执': 682, '靶': 683, '早': 684, '赤': 685, '缝': 686, '抗': 687, '泮': 688, '恢': 689, '＝': 690, '赛': 691, '里': 692, '、': 693, '甘': 694, '犯': 695, '臂': 696, '派': 697, '斤': 698, '恶': 699, '济': 700, '月': 701, '该': 702, '胆': 703, '劈': 704, '晨': 705, '述': 706, '７': 707, '丁': 708, '窄': 709, '沁': 710, '疲': 711, '罹': 712, '’': 713, '朱': 714, '徐': 715, '全': 716, '隆': 717, '润': 718, '清': 719, '够': 720, '震': 721, '顶': 722, '於': 723, '项': 724, '喉': 725, '貌': 726, '迅': 727, '关': 728, '晕': 729, '咬': 730, '*': 731, '三': 732, '+': 733, '羧': 734, '证': 735, '韩': 736, '桐': 737, '他': 738, '菪': 739, '旧': 740, '护': 741, '检': 742, '拒': 743, '结': 744, '藤': 745, '颞': 746, '乏': 747, '跛': 748, '看': 749, '霍': 750, '铂': 751, '＜': 752, '拥': 753, '发': 754, '扶': 755, '贲': 756, '覆': 757, '眶': 758, '裹': 759, '肿': 760, '钡': 761, '藁': 762, '妆': 763, '六': 764, '案': 765, '斑': 766, '住': 767, '伽': 768, '论': 769, '荨': 770, '包': 771, '灼': 772, '逐': 773, '求': 774, '叩': 775, '玫': 776, '丧': 777, '嗝': 778, '或': 779, '搬': 780, '弥': 781, '绪': 782, '7': 783, '°': 784, '程': 785, '残': 786, '十': 787, '连': 788, '抓': 789, '点': 790, '战': 791, '助': 792, '鉴': 793, '状': 794, 'N': 795, '枕': 796, '鹑': 797, '碰': 798, '惊': 799, '占': 800, '塞': 801, '彬': 802, 'Z': 803, '判': 804, '穴': 805, '柱': 806, '男': 807, '疾': 808, '＞': 809, '哌': 810, '玻': 811, '一': 812, '戒': 813, '宜': 814, '主': 815, '椅': 816, '纹': 817, '征': 818, '溴': 819, '料': 820, '诊': 821, '胛': 822, '痒': 823, '靡': 824, '菜': 825, '核': 826, '滦': 827, '窜': 828, 'O': 829, '舌': 830, '胍': 831, '胫': 832, '瘀': 833, '客': 834, '叉': 835, '胡': 836, '示': 837, '尼': 838, '冲': 839, '就': 840, '拨': 841, '能': 842, '字': 843, '燥': 844, '屎': 845, '许': 846, '拖': 847, '释': 848, '移': 849, '当': 850, '1': 851, '追': 852, '辽': 853, '鼾': 854, '叙': 855, '呋': 856, '历': 857, '８': 858, '虚': 859, '痂': 860, '省': 861, '南': 862, '培': 863, '匹': 864, '梨': 865, '饼': 866, '蜡': 867, '疑': 868, '妊': 869, '葆': 870, '吵': 871, '寐': 872, '氮': 873, 'Ｃ': 874, '孝': 875, '灸': 876, '酱': 877, '峡': 878, '㎎': 879, '确': 880, '基': 881, '圈': 882, '食': 883, '噎': 884, '桡': 885, '嵌': 886, '询': 887, 'Ⅰ': 888, '钩': 889, '第': 890, '珍': 891, '并': 892, '向': 893, '候': 894, '桶': 895, '钠': 896, '茴': 897, '信': 898, '怀': 899, '炎': 900, '髌': 901, '床': 902, '咖': 903, '张': 904, '绣': 905, '富': 906, '污': 907, '额': 908, '前': 909, '河': 910, '冠': 911, '称': 912, '典': 913, '肩': 914, '施': 915, '梗': 916, '膀': 917, '泼': 918, '殖': 919, 'ｃ': 920, '者': 921, '草': 922, '说': 923, '鑫': 924, '宇': 925, '实': 926, '反': 927, '芝': 928, '伞': 929, '英': 930, '等': 931, '胀': 932, '湖': 933, '畸': 934, '孔': 935, '带': 936, '洗': 937, '房': 938, '盲': 939, '准': 940, '⑵': 941, '瘤': 942, '沙': 943, '流': 944, '增': 945, '查': 946, '慢': 947, '毒': 948, '官': 949, '艾': 950, '低': 951, '膏': 952, '壶': 953, '淀': 954, '吹': 955, '了': 956, '乃': 957, '遵': 958, '统': 959, '厘': 960, '嗽': 961, '啤': 962, ':': 963, '娩': 964, '贫': 965, '踝': 966, '签': 967, '乙': 968, 'Ｂ': 969, '府': 970, '拳': 971, '繁': 972, '忠': 973, '梁': 974, 'U': 975, '瑞': 976, '价': 977, '业': 978, '柰': 979, '注': 980, '认': 981, '钬': 982, '防': 983, '描': 984, '埔': 985, '裂': 986, '悸': 987, '靠': 988, '惠': 989, '】': 990, '居': 991, '田': 992, '雾': 993, '请': 994, '迟': 995, '陀': 996, '抱': 997, '以': 998, '车': 999, '东': 1000, '有': 1001, '条': 1002, '问': 1003, '需': 1004, '亢': 1005, '苔': 1006, '刺': 1007, '巢': 1008, '嗳': 1009, '今': 1010, '障': 1011, '西': 1012, '秋': 1013, '控': 1014, '糊': 1015, '停': 1016, '齿': 1017, '可': 1018, '爱': 1019, '皱': 1020, '弯': 1021, '瘢': 1022, '费': 1023, '次': 1024, '痔': 1025, 'm': 1026, '玲': 1027, '脊': 1028, '楚': 1029, '横': 1030, '经': 1031, '佟': 1032, '干': 1033, '髋': 1034, '娜': 1035, '伸': 1036, '琼': 1037, '酪': 1038, '踇': 1039, '晚': 1040, '旋': 1041, '汇': 1042, '胚': 1043, '2': 1044, '木': 1045, '盾': 1046, '夏': 1047, '泰': 1048, '适': 1049, '到': 1050, '较': 1051, '侠': 1052, '材': 1053, '周': 1054, '扭': 1055, '资': 1056, '四': 1057, '【': 1058, '置': 1059, '宣': 1060, '埃': 1061, '蚓': 1062, '歇': 1063, '考': 1064, '钾': 1065, '华': 1066, '腔': 1067, '粗': 1068, '腺': 1069, '琦': 1070, '汽': 1071, '犬': 1072, '胃': 1073, '宝': 1074, '酯': 1075, 'w': 1076, '则': 1077, '呛': 1078, '搏': 1079, '师': 1080, '汀': 1081, '幼': 1082, '织': 1083, '陆': 1084, '杓': 1085, '足': 1086, '淋': 1087, '脚': 1088, '估': 1089, '娟': 1090, '_': 1091, '外': 1092, 'k': 1093, '身': 1094, '萄': 1095, '铸': 1096, '煎': 1097, '依': 1098, '吕': 1099, '龙': 1100, '毫': 1101, '疼': 1102, '虑': 1103, '纪': 1104, '孢': 1105, '世': 1106, '央': 1107, '瘙': 1108, '脐': 1109, '场': 1110, '，': 1111, '格': 1112, 'β': 1113, '痹': 1114, '鸭': 1115, '喜': 1116, '传': 1117, '内': 1118, '脘': 1119, '诸': 1120, '潮': 1121, '呕': 1122, '替': 1123, '霉': 1124, '析': 1125, '疝': 1126, '枚': 1127, 'g': 1128, '扫': 1129, '肢': 1130, '吻': 1131, '寻': 1132, '朋': 1133, '宏': 1134, '议': 1135, '亮': 1136, '澳': 1137, '乡': 1138, '放': 1139, '慌': 1140, '希': 1141, '沟': 1142, '成': 1143, '益': 1144, '沈': 1145, '淡': 1146, '疫': 1147, '赖': 1148, '绕': 1149, '纤': 1150, '葛': 1151, '永': 1152, '丛': 1153, '段': 1154, '围': 1155, '不': 1156, '×': 1157, '唑': 1158, '撞': 1159, 'ｈ': 1160, '锦': 1161, '侯': 1162, '厕': 1163, '熙': 1164, '隐': 1165, 'q': 1166, '痫': 1167, '子': 1168, '熄': 1169, '毕': 1170, '散': 1171, '=': 1172, '取': 1173, '祁': 1174, '嘎': 1175, '阿': 1176, '及': 1177, '伊': 1178, '属': 1179, '心': 1180, '二': 1181, '昏': 1182, '渗': 1183, '锯': 1184, '%': 1185, '青': 1186, '拓': 1187, '卡': 1188, '终': 1189, 'ｘ': 1190, '短': 1191, '冷': 1192, '区': 1193, '植': 1194, '涨': 1195, '录': 1196, '拾': 1197, '目': 1198, '韧': 1199, '民': 1200, '去': 1201, '便': 1202, '再': 1203, '质': 1204, '办': 1205, '育': 1206, '矿': 1207, '如': 1208, '纯': 1209, '髂': 1210, '上': 1211, '遍': 1212, '列': 1213, '锐': 1214, '罂': 1215, '颠': 1216, '渡': 1217, '与': 1218, '思': 1219, '乐': 1220, '喷': 1221, '醉': 1222, '还': 1223, '时': 1224, '鲁': 1225, '阜': 1226, '唐': 1227, '行': 1228, '瞳': 1229, '汤': 1230, '数': 1231, '碾': 1232, '钢': 1233, '托': 1234, '受': 1235, '软': 1236, '缘': 1237, '歪': 1238, '右': 1239, '遥': 1240, '朦': 1241, '蒲': 1242, '仁': 1243, '苷': 1244, '待': 1245, '疗': 1246, '农': 1247, '㎝': 1248, '代': 1249, '妇': 1250, '没': 1251, '黑': 1252, '侵': 1253, '为': 1254, '态': 1255, '买': 1256, '工': 1257, '那': 1258, '级': 1259, '耸': 1260, '胱': 1261, '腓': 1262, '氟': 1263, '校': 1264, '丹': 1265, '背': 1266, '幽': 1267, '保': 1268, '^': 1269, '颅': 1270, '肤': 1271, '咽': 1272, '达': 1273, '至': 1274, '‘': 1275, '《': 1276, '避': 1277, '职': 1278, '操': 1279, '菊': 1280, '巧': 1281, '随': 1282, '松': 1283, '乱': 1284, '栋': 1285, '&': 1286, '伐': 1287, '呼': 1288, '饿': 1289, '况': 1290, '良': 1291, '血': 1292, '甲': 1293, '蜜': 1294, '知': 1295, '睑': 1296, '倒': 1297, '腊': 1298, '米': 1299, '比': 1300, '军': 1301, '偶': 1302, '聋': 1303, '源': 1304, '④': 1305, '很': 1306, '泌': 1307, '膝': 1308, '神': 1309, '含': 1310, '累': 1311, '史': 1312, '束': 1313, '投': 1314, '严': 1315, '熊': 1316, '精': 1317, '津': 1318, '６': 1319, '灭': 1320, '肛': 1321, '娠': 1322, '都': 1323, '杆': 1324, '是': 1325, '孟': 1326, '其': 1327, '庄': 1328, '锥': 1329, '而': 1330, '锁': 1331, '稀': 1332, '螺': 1333, '棘': 1334, '频': 1335, '碳': 1336, '进': 1337, '肺': 1338, '肟': 1339, '邢': 1340, '瑰': 1341, '癫': 1342, '伤': 1343, '未': 1344, '咯': 1345, '集': 1346, '砖': 1347, '灶': 1348, '冰': 1349, '涉': 1350, '期': 1351, '站': 1352, '库': 1353, '平': 1354, '\\\\': 1355, '歌': 1356, '祥': 1357, '意': 1358, '烈': 1359, '羟': 1360, '融': 1361, 'L': 1362, '蹄': 1363, '啡': 1364, '卵': 1365, '减': 1366, '窿': 1367, '翻': 1368, '菌': 1369, '颉': 1370, 'Ⅴ': 1371, '5': 1372, '肱': 1373, '否': 1374, '朴': 1375, '噻': 1376, '蝶': 1377, '装': 1378, 'S': 1379, '迪': 1380, '腘': 1381, '耻': 1382, 'ｂ': 1383, '通': 1384, ']': 1385, '也': 1386, '隙': 1387, '“': 1388, '烧': 1389, '街': 1390, '预': 1391, '挖': 1392, '缓': 1393, '-': 1394, '于': 1395, '样': 1396, '胖': 1397, '氩': 1398, '蛛': 1399, '会': 1400, 'Ⅲ': 1401, '１': 1402, '啶': 1403, '造': 1404, '烷': 1405, '味': 1406, '；': 1407, '轴': 1408, '颗': 1409, '手': 1410, '膜': 1411, '君': 1412, '合': 1413, '际': 1414, '壮': 1415, '常': 1416, '妥': 1417, '重': 1418, '倾': 1419, '鹅': 1420, '联': 1421, '母': 1422, '懒': 1423, '台': 1424, '捻': 1425, '云': 1426, '团': 1427, '供': 1428, 'x': 1429, '芦': 1430, '绷': 1431, '择': 1432, '舍': 1433, '羊': 1434, 'p': 1435, '饭': 1436, '补': 1437, '眩': 1438, '掩': 1439, '嘱': 1440, '评': 1441, '饥': 1442, '序': 1443, '稠': 1444, '儿': 1445, 'u': 1446, '打': 1447, '浅': 1448, '亚': 1449, '患': 1450, '石': 1451, 'ｍ': 1452, '已': 1453, '店': 1454, '古': 1455, '咳': 1456, '屑': 1457, '验': 1458, '髁': 1459, '拉': 1460, '位': 1461, '摸': 1462, '坐': 1463, '逍': 1464, 'r': 1465, 'v': 1466, '曲': 1467, '淤': 1468, '同': 1469, '使': 1470, '拆': 1471, '断': 1472, '椎': 1473, '眠': 1474, '憋': 1475, '腋': 1476, '饮': 1477, '曾': 1478, '难': 1479, '尖': 1480, '略': 1481, '巅': 1482, '勒': 1483, '约': 1484, '蕈': 1485, '承': 1486, '面': 1487, '初': 1488, ',': 1489, '潴': 1490, '急': 1491, '降': 1492, '哑': 1493, '听': 1494, '浆': 1495, '餐': 1496, '事': 1497, '屈': 1498, '巾': 1499, '甸': 1500, '磷': 1501, '”': 1502, '着': 1503, '鞘': 1504, '找': 1505, '索': 1506, '哽': 1507, '崎': 1508, '忆': 1509, '濒': 1510, '人': 1511, '符': 1512, '浸': 1513, '陈': 1514, 'G': 1515, '晰': 1516, '拔': 1517, '愿': 1518, '曼': 1519, '3': 1520, '药': 1521, '渍': 1522, 'F': 1523, '轧': 1524, '肯': 1525, '穹': 1526, '睾': 1527, '极': 1528, '定': 1529, '圳': 1530, '骤': 1531, '异': 1532, '动': 1533, '岁': 1534, '循': 1535, '守': 1536, '窥': 1537, 'n': 1538, '凝': 1539, '桑': 1540, '》': 1541, '啰': 1542, '鹏': 1543, '碱': 1544, '庆': 1545, '柔': 1546, '凡': 1547, '苏': 1548, '皮': 1549, '射': 1550, '瘫': 1551, '茎': 1552, '(': 1553, '申': 1554, '旗': 1555, '续': 1556, '劝': 1557, '参': 1558, '耗': 1559, '除': 1560, '双': 1561, '愈': 1562, '缔': 1563, '趾': 1564, '对': 1565, '坦': 1566, '轿': 1567, '>': 1568, '耐': 1569, '泻': 1570, '嚏': 1571, '.': 1572, '秘': 1573, '率': 1574, '粉': 1575, '／': 1576, '吠': 1577, '书': 1578, '渴': 1579, 'P': 1580, '腿': 1581, '中': 1582, '纠': 1583, '嗦': 1584, '距': 1585, '调': 1586, '寒': 1587, '抽': 1588, '嘶': 1589, '粒': 1590, '郭': 1591, '倍': 1592, '梢': 1593, '印': 1594, '孙': 1595, '层': 1596, '贵': 1597, '理': 1598, '．': 1599, '雨': 1600, '飞': 1601, '冀': 1602, '养': 1603, '小': 1604, '坎': 1605, '镁': 1606, '夹': 1607, '春': 1608, '社': 1609, '渐': 1610, '蟾': 1611, '楼': 1612, '盖': 1613, '径': 1614, '峰': 1615, '高': 1616, 'ｇ': 1617, '旺': 1618, '泵': 1619, '推': 1620, '纷': 1621, '碎': 1622, '名': 1623, '雁': 1624, '刚': 1625, '穿': 1626, '临': 1627, '疡': 1628, '症': 1629, '癌': 1630, '麝': 1631, '伏': 1632, '尔': 1633, '展': 1634, '络': 1635, '~': 1636, '躲': 1637, '芬': 1638, '响': 1639, '题': 1640, '泽': 1641, '域': 1642, '图': 1643, '泪': 1644, '商': 1645, '龟': 1646, 'Ⅵ': 1647, '染': 1648, '量': 1649, '黄': 1650, '傍': 1651, '疽': 1652, '存': 1653, '刻': 1654, '惯': 1655, '嵴': 1656, '素': 1657, '睡': 1658, '颤': 1659, '完': 1660, '将': 1661, '衡': 1662, \"'\": 1663, '芽': 1664, '山': 1665, '殊': 1666, '脓': 1667, '入': 1668, '情': 1669, '锅': 1670, '剂': 1671, '返': 1672, '肥': 1673, '氯': 1674, '专': 1675, '过': 1676, '溶': 1677, '安': 1678, '潜': 1679, '察': 1680, '八': 1681, '局': 1682, '杉': 1683, 'R': 1684, '＂': 1685, '起': 1686, '闷': 1687, '种': 1688, '沛': 1689, '改': 1690, '形': 1691, '诉': 1692, '组': 1693, '秦': 1694, '岔': 1695, '九': 1696, '橡': 1697, '辅': 1698, '克': 1699, '％': 1700, '绞': 1701, '耳': 1702, '满': 1703, '蒂': 1704, '奥': 1705, '硫': 1706, '因': 1707, '见': 1708, '汗': 1709, '遮': 1710, '擦': 1711, '祸': 1712, '国': 1713, '虹': 1714, '尾': 1715, '方': 1716, '族': 1717, '机': 1718, 'Ｔ': 1719, '百': 1720, '活': 1721, '迹': 1722, '潘': 1723, '度': 1724, '吗': 1725, '宫': 1726, '奇': 1727, '文': 1728, '透': 1729, '卓': 1730, '应': 1731, '哆': 1732, '易': 1733, '涕': 1734, '囊': 1735, '用': 1736, '雄': 1737, '武': 1738, '余': 1739, '窒': 1740, '粥': 1741, '辣': 1742, '元': 1743, '驶': 1744, '康': 1745, '钟': 1746, '颚': 1747, '自': 1748, '痛': 1749, '两': 1750, '圆': 1751, '脑': 1752, '饱': 1753, '技': 1754, 'B': 1755, '脆': 1756, '死': 1757, '瘘': 1758, '躺': 1759, '抵': 1760, '付': 1761, '套': 1762, '管': 1763, '仿': 1764, '乳': 1765, '趋': 1766, 'D': 1767, '选': 1768, '芯': 1769, '扩': 1770, '仅': 1771, '复': 1772, '柯': 1773, 'i': 1774, '寨': 1775, '室': 1776, '言': 1777, '挫': 1778, '锌': 1779, '板': 1780, 'Ⅳ': 1781, '括': 1782, '遗': 1783, '扎': 1784, '探': 1785, '原': 1786, '固': 1787, 'Ｒ': 1788, '膈': 1789, '舟': 1790, '喘': 1791, '坡': 1792, '０': 1793, '某': 1794, '油': 1795, '氨': 1796, 'a': 1797, '萨': 1798, '总': 1799, '更': 1800, '构': 1801, '稳': 1802, '襻': 1803, '标': 1804, '股': 1805, '乘': 1806, '涛': 1807, '致': 1808, '快': 1809, '℃': 1810, '漫': 1811, '來': 1812, '敢': 1813, '研': 1814, '眦': 1815, '剪': 1816, '袢': 1817, '湾': 1818, '环': 1819, '命': 1820, '鸣': 1821, '电': 1822, '荷': 1823, '纱': 1824, '后': 1825, '息': 1826, '视': 1827, '烟': 1828, '怠': 1829, '久': 1830, '牙': 1831, '敷': 1832, '鸡': 1833, '填': 1834, '铋': 1835, '福': 1836, '休': 1837, '城': 1838, '在': 1839, '首': 1840, '丰': 1841, '溢': 1842, '救': 1843, '轮': 1844, '幕': 1845, '宽': 1846, '丝': 1847, '躇': 1848, '9': 1849, 's': 1850, '葡': 1851, '型': 1852, '溃': 1853, '?': 1854, '治': 1855, '脾': 1856, '棍': 1857, '璃': 1858, '梅': 1859, '报': 1860, '哮': 1861, '吸': 1862, '\"': 1863, '被': 1864, '玉': 1865, '腱': 1866, '色': 1867, '－': 1868, '∕': 1869, '瘟': 1870, '跌': 1871, '瓜': 1872, '恻': 1873, '奋': 1874, 'π': 1875, '烦': 1876, '抬': 1877, '维': 1878, '喝': 1879, '缩': 1880, '记': 1881, '昨': 1882, '邻': 1883, '鲍': 1884, '险': 1885, '交': 1886, '芩': 1887, '风': 1888, '末': 1889, 'e': 1890, 'K': 1891, '凸': 1892, '链': 1893, '瘦': 1894, '举': 1895, 'ˉ': 1896, '灵': 1897, '～': 1898, '皇': 1899, '化': 1900, '杖': 1901, '鸿': 1902, '促': 1903, '踢': 1904, '扪': 1905, '森': 1906, '测': 1907, '痰': 1908, '疸': 1909, '酮': 1910, '病': 1911, '粟': 1912, '摄': 1913, '竹': 1914, '吉': 1915, '盒': 1916, '摊': 1917, '指': 1918, '诺': 1919, '痣': 1920, '哭': 1921, '然': 1922, '齐': 1923, '奈': 1924, '厌': 1925, '员': 1926, '韦': 1927, '戴': 1928, '访': 1929, '杷': 1930, '摩': 1931, '胸': 1932, '亦': 1933, 'Ｉ': 1934, '蜂': 1935, '吡': 1936, '眉': 1937, '波': 1938, '堆': 1939, '讨': 1940, '坤': 1941, '忌': 1942, '照': 1943, '屉': 1944, '鼻': 1945, '闻': 1946, '梭': 1947, '肠': 1948, '共': 1949, '骶': 1950, '暂': 1951, '觉': 1952, '杂': 1953, '购': 1954, 'o': 1955, '泥': 1956, '备': 1957, '巩': 1958, '利': 1959, '撑': 1960, '黏': 1961, '音': 1962, '枫': 1963, '漂': 1964, 'V': 1965, '阅': 1966, '贝': 1967, '泡': 1968, '任': 1969, '辆': 1970, '畅': 1971, '膳': 1972, '欠': 1973, '王': 1974, '嗪': 1975, '千': 1976, '杏': 1977, '曚': 1978, '架': 1979, '律': 1980, '份': 1981, '⑶': 1982, '触': 1983, '矛': 1984, '美': 1985, '勃': 1986, '善': 1987, '才': 1988, '做': 1989, '酶': 1990, '练': 1991, '宾': 1992, '闭': 1993, '头': 1994, '署': 1995, '滞': 1996, '硬': 1997, '新': 1998, '啉': 1999, '喟': 2000, '节': 2001, '温': 2002, '盐': 2003, '消': 2004, '院': 2005, '丘': 2006, '光': 2007, '懈': 2008, '蔚': 2009, '争': 2010, '截': 2011, '镇': 2012, '豪': 2013, '钙': 2014, '气': 2015, '剥': 2016, '配': 2017, '本': 2018, '尿': 2019, '脱': 2020, '寅': 2021, '边': 2022, '始': 2023, '彦': 2024, 'b': 2025, '肾': 2026, '蚯': 2027, '埋': 2028, '莹': 2029, '体': 2030, '迈': 2031, '狭': 2032, '２': 2033, '盈': 2034, '莫': 2035, '胎': 2036, '尺': 2037, '角': 2038, '输': 2039, '来': 2040, '太': 2041, '剧': 2042, '壁': 2043, '轻': 2044, '冯': 2045, '弹': 2046, '侧': 2047, '萎': 2048, '肪': 2049, '迂': 2050, '川': 2051, '钴': 2052, '开': 2053, '绿': 2054, '偿': 2055, '冒': 2056, '留': 2057, '缬': 2058, '婴': 2059, '疱': 2060, '林': 2061, '呃': 2062, '力': 2063, '空': 2064, '树': 2065, '相': 2066, '扁': 2067, '憩': 2068, '划': 2069, '兴': 2070, '磁': 2071, '芙': 2072, '稍': 2073, '汉': 2074, '陶': 2075, '0': 2076, '容': 2077, '纳': 2078, '密': 2079, '附': 2080, '好': 2081, '4': 2082, '咸': 2083, '牵': 2084, '监': 2085, '颌': 2086, '学': 2087, '盆': 2088, '大': 2089, '±': 2090, '凹': 2091, '刀': 2092, '浴': 2093, '明': 2094, '白': 2095, '著': 2096, '熏': 2097, '切': 2098, '吞': 2099, '衰': 2100, '此': 2101, '逆': 2102, '吊': 2103, '它': 2104, '泛': 2105, '鳞': 2106, '僵': 2107, '碧': 2108, '①': 2109, '盂': 2110, ')': 2111, '麻': 2112, '漓': 2113, '姑': 2114, '解': 2115, '值': 2116, '盘': 2117, '搔': 2118, '球': 2119, '园': 2120, '吲': 2121, '模': 2122, '效': 2123}\n"
     ]
    }
   ],
   "source": [
    "creat_dict(all_data, char_dict_path)"
   ]
  },
  {
   "cell_type": "code",
   "execution_count": 38,
   "metadata": {},
   "outputs": [],
   "source": [
    "train_text = load_data(train_text_path)\n",
    "train_label = load_data(train_label_path)\n",
    "train_data = merge_text_label(train_text, train_label)\n",
    "write_train_val_test(train_data, train_path)\n",
    "\n",
    "dev_text = load_data(valid_text_path)\n",
    "dev_label = load_data(valid_label_path)\n",
    "dev_data = merge_text_label(dev_text, dev_label)\n",
    "write_train_val_test(dev_data, dev_path)\n",
    "\n",
    "test_text = load_data(test_text_path)\n",
    "test_label = load_data(test_label_path)\n",
    "test_data = merge_text_label(test_text, test_label)\n",
    "write_train_val_test(test_data, test_path)\n",
    "\n",
    "ccks2018_text = load_data(ccks_2018_file)\n",
    "    \n",
    "all_text = train_text + dev_text + test_text + ccks2018_text\n",
    "write_sentences(all_text, all_data)\n",
    "\n",
    "all_text_length = [len(line.split()) for line in all_text]\n",
    "\n",
    "train_word2vec(all_data, embedding_dim, 5, 1, word2vec_path)"
   ]
  },
  {
   "cell_type": "code",
   "execution_count": 39,
   "metadata": {},
   "outputs": [
    {
     "data": {
      "text/plain": [
       "count    11221.000000\n",
       "mean        45.256305\n",
       "std         40.276260\n",
       "min          1.000000\n",
       "25%         18.000000\n",
       "50%         33.000000\n",
       "75%         59.000000\n",
       "max        612.000000\n",
       "dtype: float64"
      ]
     },
     "execution_count": 39,
     "metadata": {},
     "output_type": "execute_result"
    }
   ],
   "source": [
    "# list to series\n",
    "ser = Series(all_text_length)\n",
    "ser.describe()"
   ]
  },
  {
   "cell_type": "code",
   "execution_count": 31,
   "metadata": {},
   "outputs": [
    {
     "data": {
      "text/plain": [
       "<matplotlib.axes._subplots.AxesSubplot at 0x7f3f0c2fbb38>"
      ]
     },
     "execution_count": 31,
     "metadata": {},
     "output_type": "execute_result"
    },
    {
     "data": {
      "image/png": "[encoded data removed]",
      "text/plain": [
       "<Figure size 432x288 with 1 Axes>"
      ]
     },
     "metadata": {
      "needs_background": "light"
     },
     "output_type": "display_data"
    }
   ],
   "source": [
    "sns.distplot(ser)"
   ]
  },
  {
   "cell_type": "code",
   "execution_count": null,
   "metadata": {},
   "outputs": [],
   "source": []
  },
  {
   "cell_type": "code",
   "execution_count": 40,
   "metadata": {},
   "outputs": [],
   "source": [
    "def load_word2vec(emb_path, id_to_word, word_dim, old_weights):\n",
    "    \"\"\"\n",
    "    Load word embedding from pre-trained file\n",
    "    embedding size must match\n",
    "    \"\"\"\n",
    "    new_weights = old_weights\n",
    "    print('Loading pretrained embeddings from {}...'.format(emb_path))\n",
    "    pre_trained = {}\n",
    "    emb_invalid = 0\n",
    "    for i, line in enumerate(codecs.open(emb_path, 'r', 'utf-8')):\n",
    "        line = line.rstrip().split()\n",
    "        if len(line) == word_dim + 1:\n",
    "            pre_trained[line[0]] = np.array(\n",
    "                [float(x) for x in line[1:]]\n",
    "            ).astype(np.float32)\n",
    "        else:\n",
    "            emb_invalid += 1\n",
    "    if emb_invalid > 0:\n",
    "        print('WARNING: %i invalid lines' % emb_invalid)\n",
    "    c_found = 0\n",
    "    c_lower = 0\n",
    "    c_zeros = 0\n",
    "    n_words = len(id_to_word)\n",
    "    # Lookup table initialization\n",
    "    for i in range(n_words):\n",
    "        word = id_to_word[i]\n",
    "        if word in pre_trained:\n",
    "            new_weights[i] = pre_trained[word]\n",
    "            c_found += 1\n",
    "        elif word.lower() in pre_trained:\n",
    "            new_weights[i] = pre_trained[word.lower()]\n",
    "            c_lower += 1\n",
    "        elif re.sub('\\d', '0', word.lower()) in pre_trained:\n",
    "            new_weights[i] = pre_trained[\n",
    "                re.sub('\\d', '0', word.lower())\n",
    "            ]\n",
    "            c_zeros += 1\n",
    "    print('Loaded %i pretrained embeddings.' % len(pre_trained))\n",
    "    print('%i / %i (%.4f%%) words have been initialized with '\n",
    "          'pretrained embeddings.' % (\n",
    "        c_found + c_lower + c_zeros, n_words,\n",
    "        100. * (c_found + c_lower + c_zeros) / n_words)\n",
    "    )\n",
    "    print('%i found directly, %i after lowercasing, '\n",
    "          '%i after lowercasing + zero.' % (\n",
    "        c_found, c_lower, c_zeros\n",
    "    ))\n",
    "    return new_weights"
   ]
  },
  {
   "cell_type": "code",
   "execution_count": null,
   "metadata": {},
   "outputs": [],
   "source": []
  }
 ],
 "metadata": {
  "kernelspec": {
   "display_name": "bert",
   "language": "python",
   "name": "bert"
  },
  "language_info": {
   "codemirror_mode": {
    "name": "ipython",
    "version": 3
   },
   "file_extension": ".py",
   "mimetype": "text/x-python",
   "name": "python",
   "nbconvert_exporter": "python",
   "pygments_lexer": "ipython3",
   "version": "3.6.7"
  }
 },
 "nbformat": 4,
 "nbformat_minor": 2
}
